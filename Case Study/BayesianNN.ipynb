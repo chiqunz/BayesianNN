{
 "cells": [
  {
   "cell_type": "code",
   "execution_count": 90,
   "metadata": {},
   "outputs": [],
   "source": [
    "import numpy as np\n",
    "import torch\n",
    "import torch.nn as nn\n",
    "\n",
    "from torch.autograd import Variable\n",
    "\n",
    "import pyro\n",
    "from pyro.distributions import Normal\n",
    "from pyro.infer import SVI\n",
    "from pyro.optim import Adam as Adam_pyro\n",
    "\n",
    "import quandl\n",
    "import pendulum\n",
    "import pandas as pd\n",
    "import io\n",
    "import requests\n",
    "import time\n",
    "\n",
    "%matplotlib inline\n",
    "from matplotlib import pyplot as plt"
   ]
  },
  {
   "cell_type": "code",
   "execution_count": 91,
   "metadata": {},
   "outputs": [],
   "source": [
    "quandl.ApiConfig.api_key = '7ixwozwzrZ2ZU558396x'\n",
    " \n",
    "def quandl_stocks(symbol, start_date='2010-1-1', end_date=None):\n",
    "    if not end_date:\n",
    "        end_date = pendulum.now().to_iso8601_string() \n",
    "    return quandl.get_table('WIKI/PRICES', ticker=symbol, date={'gte':start_date, 'lte':end_date}, paginate=True)\n",
    " \n",
    "def quandl_fundamentals(symbol):\n",
    "    return quandl.get_table('ZACKS/FC', ticker=symbol, qopts={\"columns\":[\"per_end_date\", \"wavg_shares_out\", \n",
    "                                                                         \"wavg_shares_out_diluted\", \"eps_basic_net\", \n",
    "                                                                         \"eps_diluted_net\"]})"
   ]
  },
  {
   "cell_type": "code",
   "execution_count": 119,
   "metadata": {},
   "outputs": [],
   "source": [
    "symbol = 'F'\n",
    "df_price = quandl_stocks(symbol, start_date='2010-1-1')\n",
    "df_fundamentals = quandl_fundamentals(symbol)\n",
    "\n",
    "df_price['date'] = pd.to_datetime(df_price['date'])\n",
    "df_fundamentals['per_end_date']=pd.to_datetime(df_fundamentals['per_end_date'])\n",
    "df_price = df_price.set_index(\"date\")\n",
    "df_fundamentals = df_fundamentals.set_index(\"per_end_date\")\n",
    "\n",
    "df_fundamentals = df_fundamentals.sort_index()\n",
    "df_price = df_price.sort_index()\n",
    "df_fundamentals.index.name='date'\n",
    "\n",
    "df_price = df_price[~df_price.index.duplicated(keep='first')]\n",
    "df_fundamentals = df_fundamentals[~df_fundamentals.index.duplicated(keep='first')]"
   ]
  },
  {
   "cell_type": "code",
   "execution_count": 120,
   "metadata": {},
   "outputs": [
    {
     "data": {
      "text/html": [
       "<div>\n",
       "<style scoped>\n",
       "    .dataframe tbody tr th:only-of-type {\n",
       "        vertical-align: middle;\n",
       "    }\n",
       "\n",
       "    .dataframe tbody tr th {\n",
       "        vertical-align: top;\n",
       "    }\n",
       "\n",
       "    .dataframe thead th {\n",
       "        text-align: right;\n",
       "    }\n",
       "</style>\n",
       "<table border=\"1\" class=\"dataframe\">\n",
       "  <thead>\n",
       "    <tr style=\"text-align: right;\">\n",
       "      <th></th>\n",
       "      <th>ticker</th>\n",
       "      <th>open</th>\n",
       "      <th>high</th>\n",
       "      <th>low</th>\n",
       "      <th>close</th>\n",
       "      <th>volume</th>\n",
       "      <th>ex-dividend</th>\n",
       "      <th>split_ratio</th>\n",
       "      <th>adj_open</th>\n",
       "      <th>adj_high</th>\n",
       "      <th>adj_low</th>\n",
       "      <th>adj_close</th>\n",
       "      <th>adj_volume</th>\n",
       "    </tr>\n",
       "    <tr>\n",
       "      <th>date</th>\n",
       "      <th></th>\n",
       "      <th></th>\n",
       "      <th></th>\n",
       "      <th></th>\n",
       "      <th></th>\n",
       "      <th></th>\n",
       "      <th></th>\n",
       "      <th></th>\n",
       "      <th></th>\n",
       "      <th></th>\n",
       "      <th></th>\n",
       "      <th></th>\n",
       "      <th></th>\n",
       "    </tr>\n",
       "  </thead>\n",
       "  <tbody>\n",
       "    <tr>\n",
       "      <th>2010-01-04</th>\n",
       "      <td>F</td>\n",
       "      <td>10.17</td>\n",
       "      <td>10.28</td>\n",
       "      <td>10.0455</td>\n",
       "      <td>10.28</td>\n",
       "      <td>60855800.0</td>\n",
       "      <td>0.0</td>\n",
       "      <td>1.0</td>\n",
       "      <td>8.016056</td>\n",
       "      <td>8.102759</td>\n",
       "      <td>7.917924</td>\n",
       "      <td>8.102759</td>\n",
       "      <td>60855800.0</td>\n",
       "    </tr>\n",
       "    <tr>\n",
       "      <th>2010-01-05</th>\n",
       "      <td>F</td>\n",
       "      <td>10.45</td>\n",
       "      <td>11.24</td>\n",
       "      <td>10.4000</td>\n",
       "      <td>10.96</td>\n",
       "      <td>215620200.0</td>\n",
       "      <td>0.0</td>\n",
       "      <td>1.0</td>\n",
       "      <td>8.236754</td>\n",
       "      <td>8.859436</td>\n",
       "      <td>8.197343</td>\n",
       "      <td>8.638739</td>\n",
       "      <td>215620200.0</td>\n",
       "    </tr>\n",
       "    <tr>\n",
       "      <th>2010-01-06</th>\n",
       "      <td>F</td>\n",
       "      <td>11.21</td>\n",
       "      <td>11.46</td>\n",
       "      <td>11.1300</td>\n",
       "      <td>11.37</td>\n",
       "      <td>200070600.0</td>\n",
       "      <td>0.0</td>\n",
       "      <td>1.0</td>\n",
       "      <td>8.835790</td>\n",
       "      <td>9.032842</td>\n",
       "      <td>8.772734</td>\n",
       "      <td>8.961903</td>\n",
       "      <td>200070600.0</td>\n",
       "    </tr>\n",
       "    <tr>\n",
       "      <th>2010-01-07</th>\n",
       "      <td>F</td>\n",
       "      <td>11.46</td>\n",
       "      <td>11.69</td>\n",
       "      <td>11.3200</td>\n",
       "      <td>11.66</td>\n",
       "      <td>130201700.0</td>\n",
       "      <td>0.0</td>\n",
       "      <td>1.0</td>\n",
       "      <td>9.032842</td>\n",
       "      <td>9.214129</td>\n",
       "      <td>8.922493</td>\n",
       "      <td>9.190483</td>\n",
       "      <td>130201700.0</td>\n",
       "    </tr>\n",
       "    <tr>\n",
       "      <th>2010-01-08</th>\n",
       "      <td>F</td>\n",
       "      <td>11.67</td>\n",
       "      <td>11.74</td>\n",
       "      <td>11.4600</td>\n",
       "      <td>11.69</td>\n",
       "      <td>130463000.0</td>\n",
       "      <td>0.0</td>\n",
       "      <td>1.0</td>\n",
       "      <td>9.198365</td>\n",
       "      <td>9.253539</td>\n",
       "      <td>9.032842</td>\n",
       "      <td>9.214129</td>\n",
       "      <td>130463000.0</td>\n",
       "    </tr>\n",
       "  </tbody>\n",
       "</table>\n",
       "</div>"
      ],
      "text/plain": [
       "           ticker   open   high      low  close       volume  ex-dividend  \\\n",
       "date                                                                        \n",
       "2010-01-04      F  10.17  10.28  10.0455  10.28   60855800.0          0.0   \n",
       "2010-01-05      F  10.45  11.24  10.4000  10.96  215620200.0          0.0   \n",
       "2010-01-06      F  11.21  11.46  11.1300  11.37  200070600.0          0.0   \n",
       "2010-01-07      F  11.46  11.69  11.3200  11.66  130201700.0          0.0   \n",
       "2010-01-08      F  11.67  11.74  11.4600  11.69  130463000.0          0.0   \n",
       "\n",
       "            split_ratio  adj_open  adj_high   adj_low  adj_close   adj_volume  \n",
       "date                                                                           \n",
       "2010-01-04          1.0  8.016056  8.102759  7.917924   8.102759   60855800.0  \n",
       "2010-01-05          1.0  8.236754  8.859436  8.197343   8.638739  215620200.0  \n",
       "2010-01-06          1.0  8.835790  9.032842  8.772734   8.961903  200070600.0  \n",
       "2010-01-07          1.0  9.032842  9.214129  8.922493   9.190483  130201700.0  \n",
       "2010-01-08          1.0  9.198365  9.253539  9.032842   9.214129  130463000.0  "
      ]
     },
     "execution_count": 120,
     "metadata": {},
     "output_type": "execute_result"
    }
   ],
   "source": [
    "df_price.head(5)"
   ]
  },
  {
   "cell_type": "code",
   "execution_count": 123,
   "metadata": {},
   "outputs": [],
   "source": [
    "df = df_price.iloc[:,-5:]\n",
    "# df = pd.concat([df_price, df_fundamentals], axis=1)\n",
    "df = df.fillna(method='ffill')\n",
    "df = df.dropna()\n",
    "df = df.loc[:,'adj_open':]"
   ]
  },
  {
   "cell_type": "code",
   "execution_count": 124,
   "metadata": {},
   "outputs": [
    {
     "data": {
      "text/html": [
       "<div>\n",
       "<style scoped>\n",
       "    .dataframe tbody tr th:only-of-type {\n",
       "        vertical-align: middle;\n",
       "    }\n",
       "\n",
       "    .dataframe tbody tr th {\n",
       "        vertical-align: top;\n",
       "    }\n",
       "\n",
       "    .dataframe thead th {\n",
       "        text-align: right;\n",
       "    }\n",
       "</style>\n",
       "<table border=\"1\" class=\"dataframe\">\n",
       "  <thead>\n",
       "    <tr style=\"text-align: right;\">\n",
       "      <th></th>\n",
       "      <th>adj_open</th>\n",
       "      <th>adj_high</th>\n",
       "      <th>adj_low</th>\n",
       "      <th>adj_close</th>\n",
       "      <th>adj_volume</th>\n",
       "    </tr>\n",
       "    <tr>\n",
       "      <th>date</th>\n",
       "      <th></th>\n",
       "      <th></th>\n",
       "      <th></th>\n",
       "      <th></th>\n",
       "      <th></th>\n",
       "    </tr>\n",
       "  </thead>\n",
       "  <tbody>\n",
       "    <tr>\n",
       "      <th>2010-01-04</th>\n",
       "      <td>8.016056</td>\n",
       "      <td>8.102759</td>\n",
       "      <td>7.917924</td>\n",
       "      <td>8.102759</td>\n",
       "      <td>60855800.0</td>\n",
       "    </tr>\n",
       "    <tr>\n",
       "      <th>2010-01-05</th>\n",
       "      <td>8.236754</td>\n",
       "      <td>8.859436</td>\n",
       "      <td>8.197343</td>\n",
       "      <td>8.638739</td>\n",
       "      <td>215620200.0</td>\n",
       "    </tr>\n",
       "    <tr>\n",
       "      <th>2010-01-06</th>\n",
       "      <td>8.835790</td>\n",
       "      <td>9.032842</td>\n",
       "      <td>8.772734</td>\n",
       "      <td>8.961903</td>\n",
       "      <td>200070600.0</td>\n",
       "    </tr>\n",
       "    <tr>\n",
       "      <th>2010-01-07</th>\n",
       "      <td>9.032842</td>\n",
       "      <td>9.214129</td>\n",
       "      <td>8.922493</td>\n",
       "      <td>9.190483</td>\n",
       "      <td>130201700.0</td>\n",
       "    </tr>\n",
       "    <tr>\n",
       "      <th>2010-01-08</th>\n",
       "      <td>9.198365</td>\n",
       "      <td>9.253539</td>\n",
       "      <td>9.032842</td>\n",
       "      <td>9.214129</td>\n",
       "      <td>130463000.0</td>\n",
       "    </tr>\n",
       "  </tbody>\n",
       "</table>\n",
       "</div>"
      ],
      "text/plain": [
       "            adj_open  adj_high   adj_low  adj_close   adj_volume\n",
       "date                                                            \n",
       "2010-01-04  8.016056  8.102759  7.917924   8.102759   60855800.0\n",
       "2010-01-05  8.236754  8.859436  8.197343   8.638739  215620200.0\n",
       "2010-01-06  8.835790  9.032842  8.772734   8.961903  200070600.0\n",
       "2010-01-07  9.032842  9.214129  8.922493   9.190483  130201700.0\n",
       "2010-01-08  9.198365  9.253539  9.032842   9.214129  130463000.0"
      ]
     },
     "execution_count": 124,
     "metadata": {},
     "output_type": "execute_result"
    }
   ],
   "source": [
    "df.head(5)"
   ]
  },
  {
   "cell_type": "code",
   "execution_count": 125,
   "metadata": {},
   "outputs": [],
   "source": [
    "X = df.values\n",
    "sigma = X.max(axis=0)\n",
    "X /= sigma"
   ]
  },
  {
   "cell_type": "code",
   "execution_count": 126,
   "metadata": {},
   "outputs": [],
   "source": [
    "daily_delta = (df['adj_close']-df['adj_open'])/df['adj_open']\n",
    "daily_delta = daily_delta.values\n",
    "X = np.hstack([X, daily_delta[:, None]])"
   ]
  },
  {
   "cell_type": "code",
   "execution_count": 127,
   "metadata": {},
   "outputs": [],
   "source": [
    "Y = daily_delta.copy()\n",
    "Y = df['adj_close'].values\n",
    "data_target = Y[1:]\n",
    "data_feature = X[:-1]"
   ]
  },
  {
   "cell_type": "code",
   "execution_count": 266,
   "metadata": {},
   "outputs": [
    {
     "data": {
      "text/plain": [
       "[<matplotlib.lines.Line2D at 0x133f17668>]"
      ]
     },
     "execution_count": 266,
     "metadata": {},
     "output_type": "execute_result"
    },
    {
     "data": {
      "image/png": "[encoded data removed]",
      "text/plain": [
       "<matplotlib.figure.Figure at 0x131c2b8d0>"
      ]
     },
     "metadata": {},
     "output_type": "display_data"
    }
   ],
   "source": [
    "plt.plot(data_target)"
   ]
  },
  {
   "cell_type": "markdown",
   "metadata": {},
   "source": [
    "# Build a simple NN"
   ]
  },
  {
   "cell_type": "code",
   "execution_count": 286,
   "metadata": {},
   "outputs": [],
   "source": [
    "from keras.models import Model\n",
    "from keras.layers import (Input, Dense, Lambda, Conv1D, Reshape, Flatten, GaussianNoise,\n",
    "                          MaxPooling1D, ActivityRegularization, Activation, GRU)\n",
    "from keras import backend as K\n",
    "from keras.regularizers import l2, Regularizer\n",
    "from keras.optimizers import Adam\n",
    "import keras\n",
    "import tensorflow as tf"
   ]
  },
  {
   "cell_type": "code",
   "execution_count": 295,
   "metadata": {},
   "outputs": [],
   "source": [
    "num_hidden = 8"
   ]
  },
  {
   "cell_type": "code",
   "execution_count": 302,
   "metadata": {},
   "outputs": [],
   "source": [
    "def feature_price(num_features=6, activation='relu', summary=False):\n",
    "    act = Activation(activation)\n",
    "\n",
    "    inputs = Input(shape=(num_features,))\n",
    "    x = Dense(num_hidden)(inputs)\n",
    "    x = act(x)\n",
    "\n",
    "    for _ in range(9):\n",
    "        x = Dense(num_hidden)(x)\n",
    "        x = act(x)\n",
    "\n",
    "    outputs = Dense(1, activation='sigmoid')(x)\n",
    "    model = Model(inputs=inputs, outputs=outputs)\n",
    "    opt = Adam()\n",
    "\n",
    "    if summary:\n",
    "        model.summary()\n",
    "    return model, lambda: model.compile(optimizer=opt, loss='mse', metrics=['mse'])\n"
   ]
  },
  {
   "cell_type": "code",
   "execution_count": 303,
   "metadata": {},
   "outputs": [],
   "source": [
    "model_nn, build = feature_price(num_features=data_feature.shape[1])\n",
    "build()"
   ]
  },
  {
   "cell_type": "code",
   "execution_count": 304,
   "metadata": {},
   "outputs": [],
   "source": [
    "early = keras.callbacks.EarlyStopping(\n",
    "    monitor='val_loss',\n",
    "    min_delta=0,\n",
    "    patience=10,\n",
    "    verbose=0,\n",
    "    mode='auto'\n",
    ")\n",
    "tmpfilename = f'Navie_NN.hdf5'\n",
    "best = keras.callbacks.ModelCheckpoint(\n",
    "    filepath=tmpfilename,\n",
    "    monitor='val_loss',\n",
    "    verbose=0,\n",
    "    save_best_only=True,\n",
    "    save_weights_only=True,\n",
    "    mode='min',\n",
    "    period=1\n",
    ")"
   ]
  },
  {
   "cell_type": "code",
   "execution_count": 305,
   "metadata": {},
   "outputs": [
    {
     "name": "stdout",
     "output_type": "stream",
     "text": [
      "Train on 1835 samples, validate on 204 samples\n",
      "Epoch 1/5\n",
      "1835/1835 [==============================] - 4s 2ms/step - loss: 0.0661 - mean_squared_error: 0.0661 - val_loss: 0.0151 - val_mean_squared_error: 0.0151\n",
      "Epoch 2/5\n",
      "1835/1835 [==============================] - 0s 118us/step - loss: 0.0148 - mean_squared_error: 0.0148 - val_loss: 0.0020 - val_mean_squared_error: 0.0020\n",
      "Epoch 3/5\n",
      "1835/1835 [==============================] - 0s 124us/step - loss: 0.0129 - mean_squared_error: 0.0129 - val_loss: 0.0019 - val_mean_squared_error: 0.0019\n",
      "Epoch 4/5\n",
      "1835/1835 [==============================] - 0s 123us/step - loss: 0.0120 - mean_squared_error: 0.0120 - val_loss: 0.0018 - val_mean_squared_error: 0.0018\n",
      "Epoch 5/5\n",
      "1835/1835 [==============================] - 0s 131us/step - loss: 0.0106 - mean_squared_error: 0.0106 - val_loss: 0.0015 - val_mean_squared_error: 0.0015\n"
     ]
    },
    {
     "data": {
      "text/plain": [
       "<keras.callbacks.History at 0x1373619e8>"
      ]
     },
     "execution_count": 305,
     "metadata": {},
     "output_type": "execute_result"
    }
   ],
   "source": [
    "model_nn.fit(x=data_feature, y=data_target, validation_split=0.1, epochs=5, callbacks=[early, best])"
   ]
  },
  {
   "cell_type": "code",
   "execution_count": 306,
   "metadata": {},
   "outputs": [],
   "source": [
    "pred_nn = model_nn.predict(data_feature)"
   ]
  },
  {
   "cell_type": "code",
   "execution_count": 307,
   "metadata": {},
   "outputs": [
    {
     "data": {
      "text/plain": [
       "[<matplotlib.lines.Line2D at 0x137e364e0>]"
      ]
     },
     "execution_count": 307,
     "metadata": {},
     "output_type": "execute_result"
    },
    {
     "data": {
      "image/png": "[encoded data removed]",
      "text/plain": [
       "<matplotlib.figure.Figure at 0x137e36f28>"
      ]
     },
     "metadata": {},
     "output_type": "display_data"
    }
   ],
   "source": [
    "plt.plot(pred_nn)\n",
    "plt.plot(data_target, '--')"
   ]
  },
  {
   "cell_type": "code",
   "execution_count": 308,
   "metadata": {},
   "outputs": [],
   "source": [
    "weights_nn = model_nn.get_weights()"
   ]
  },
  {
   "cell_type": "code",
   "execution_count": 309,
   "metadata": {},
   "outputs": [],
   "source": [
    "std_init = [np.log(np.exp(0.1*np.max(np.abs(weights)))-1) for weights in weights_nn]"
   ]
  },
  {
   "cell_type": "code",
   "execution_count": 310,
   "metadata": {},
   "outputs": [],
   "source": [
    "# weights_nn = [0 * weights for weights in weights_nn]\n",
    "\n",
    "# std_init = [-3] * len(weights_nn)"
   ]
  },
  {
   "cell_type": "markdown",
   "metadata": {},
   "source": [
    "# Build Bayesian Model"
   ]
  },
  {
   "cell_type": "code",
   "execution_count": 311,
   "metadata": {},
   "outputs": [],
   "source": [
    "data_feature_train = torch.Tensor(data_feature[:-200])\n",
    "data_target_train = torch.Tensor(data_target[:-200])\n",
    "data = torch.Tensor(np.hstack([data_feature_train, data_target_train[:,None]]))\n",
    "data_feature_test = data_feature[-200:]\n",
    "data_target_test = data_target[-200:]"
   ]
  },
  {
   "cell_type": "code",
   "execution_count": 312,
   "metadata": {},
   "outputs": [],
   "source": [
    "data = Variable(data)\n",
    "data_feature_test = Variable(torch.Tensor(data_feature_test))"
   ]
  },
  {
   "cell_type": "code",
   "execution_count": 313,
   "metadata": {},
   "outputs": [],
   "source": [
    "pyro.get_param_store().clear()"
   ]
  },
  {
   "cell_type": "code",
   "execution_count": 314,
   "metadata": {},
   "outputs": [],
   "source": [
    "class Network(torch.nn.Module):\n",
    "    def __init__(self, n_feature, n_hidden):\n",
    "        super(Network, self).__init__()\n",
    "        self.input = nn.Linear(n_feature, n_hidden)\n",
    "        for i in range(9):\n",
    "            setattr(self, f'hidden{i}', nn.Linear(n_hidden, n_hidden))\n",
    "        self.output = nn.Linear(n_hidden, 1)\n",
    "        self.activation = nn.ReLU()\n",
    "    \n",
    "    def forward(self, x):\n",
    "        x = self.input(x)\n",
    "        x = self.activation(x)\n",
    "        for i in range(9):\n",
    "            x = getattr(self, f'hidden{i}')(x)\n",
    "            x = self.activation(x)\n",
    "        x = self.output(x)\n",
    "        return nn.Sigmoid()(x)\n",
    "        return x"
   ]
  },
  {
   "cell_type": "code",
   "execution_count": 315,
   "metadata": {},
   "outputs": [],
   "source": [
    "regression_model = Network(data_feature_train.shape[1], num_hidden)"
   ]
  },
  {
   "cell_type": "code",
   "execution_count": 316,
   "metadata": {},
   "outputs": [],
   "source": [
    "# def model(data):\n",
    "#     data_feature = data[:,:-1]\n",
    "#     data_target = data[:,-1]\n",
    "#     p=data_feature.shape[1]\n",
    "    \n",
    "#     mu_input = Variable(torch.Tensor(weights_nn[0].T))\n",
    "#     sigma_input = Variable(std_init[0] * torch.ones(num_hidden,p))\n",
    "#     bias_mu_input = Variable(torch.Tensor(weights_nn[1]))\n",
    "#     bias_sigma_input = Variable(std_init[1] * torch.ones(num_hidden))    \n",
    "#     w_prior_input, b_prior_input = Normal(mu_input, sigma_input), Normal(bias_mu_input, bias_sigma_input)\n",
    "    \n",
    "#     mu_output = Variable(torch.Tensor(weights_nn[-2].T))\n",
    "#     sigma_output = Variable(std_init[-2] * torch.ones(1,num_hidden))\n",
    "#     bias_mu_output = Variable(torch.Tensor(weights_nn[-1]))\n",
    "#     bias_sigma_output = Variable(std_init[-2] * torch.ones(1))    \n",
    "#     w_prior_output, b_prior_output = Normal(mu_output, sigma_output), Normal(bias_mu_output, bias_sigma_output)\n",
    "    \n",
    "#     priors = {'input.weight': w_prior_input, 'input.bias': b_prior_input,\n",
    "#               'output.weight': w_prior_output, 'output.bias': b_prior_output}\n",
    "    \n",
    "#     mu_hidden, sigma_hidden, bias_mu_hidden, bias_sigma_hidden, \\\n",
    "#     w_prior_hidden, b_prior_hidden = ({} for _ in range(6))\n",
    "#     for i in range(0,18,2):\n",
    "#         assert weights_nn[i+2].shape == (num_hidden, num_hidden)\n",
    "#         index = int(i/2)\n",
    "#         mu_hidden[index] = Variable(torch.Tensor(weights_nn[i+2].T))\n",
    "#         sigma_hidden[index] = Variable(std_init[i+2] * torch.ones(num_hidden, num_hidden))\n",
    "#         bias_mu_hidden[index] = Variable(torch.Tensor(weights_nn[i+3]))\n",
    "#         bias_sigma_hidden[index] = Variable(std_init[i+3] * torch.ones(num_hidden))    \n",
    "#         w_prior_hidden[index] = Normal(mu_hidden[index], sigma_hidden[index])\n",
    "#         b_prior_hidden[index] = Normal(bias_mu_hidden[index], bias_sigma_hidden[index])\n",
    "#         priors[f'hidden{index}.weight'] = w_prior_hidden[index]\n",
    "#         priors[f'hidden{index}.bias'] = b_prior_hidden[index]\n",
    "    \n",
    "#     lifted_module = pyro.random_module(\"module\", regression_model, priors)\n",
    "#     lifted_reg_model = lifted_module()\n",
    "#     prediction_mean = lifted_reg_model(data_feature).squeeze()\n",
    "#     pyro.sample(\"obs\",\n",
    "#                 Normal(prediction_mean, 0.1 * Variable(torch.ones(data.size(0)))),\n",
    "#                 obs = data_target.squeeze())"
   ]
  },
  {
   "cell_type": "code",
   "execution_count": 317,
   "metadata": {},
   "outputs": [],
   "source": [
    "def model(data):\n",
    "    data_feature = data[:,:-1]\n",
    "    data_target = data[:,-1]\n",
    "    p=data_feature.shape[1]\n",
    "    \n",
    "    mu_input = Variable(torch.zeros(num_hidden, p))\n",
    "    sigma_input = Variable(torch.ones(num_hidden,p))\n",
    "    bias_mu_input = Variable(torch.zeros(num_hidden))\n",
    "    bias_sigma_input = Variable(torch.ones(num_hidden))    \n",
    "    w_prior_input, b_prior_input = Normal(mu_input, sigma_input), Normal(bias_mu_input, bias_sigma_input)\n",
    "    \n",
    "    mu_output = Variable(torch.zeros(1, num_hidden))\n",
    "    sigma_output = Variable(torch.ones(1, num_hidden))\n",
    "    bias_mu_output = Variable(torch.zeros(1))\n",
    "    bias_sigma_output = Variable(torch.ones(1))    \n",
    "    w_prior_output, b_prior_output = Normal(mu_output, sigma_output), Normal(bias_mu_output, bias_sigma_output)\n",
    "    \n",
    "    priors = {'input.weight': w_prior_input, 'input.bias': b_prior_input,\n",
    "              'output.weight': w_prior_output, 'output.bias': b_prior_output}\n",
    "    \n",
    "    mu_hidden, sigma_hidden, bias_mu_hidden, bias_sigma_hidden, \\\n",
    "    w_prior_hidden, b_prior_hidden = ({} for _ in range(6))\n",
    "    for i in range(0,18,2):\n",
    "        assert weights_nn[i+2].shape == (num_hidden, num_hidden)\n",
    "        index = int(i/2)\n",
    "        mu_hidden[index] = Variable(torch.zeros(num_hidden, num_hidden))\n",
    "        sigma_hidden[index] = Variable(torch.ones(num_hidden, num_hidden))\n",
    "        bias_mu_hidden[index] = Variable(torch.zeros(num_hidden))\n",
    "        bias_sigma_hidden[index] = Variable(torch.ones(num_hidden))    \n",
    "        w_prior_hidden[index] = Normal(mu_hidden[index], sigma_hidden[index])\n",
    "        b_prior_hidden[index] = Normal(bias_mu_hidden[index], bias_sigma_hidden[index])\n",
    "        priors[f'hidden{index}.weight'] = w_prior_hidden[index]\n",
    "        priors[f'hidden{index}.bias'] = b_prior_hidden[index]\n",
    "    \n",
    "    lifted_module = pyro.random_module(\"module\", regression_model, priors)\n",
    "    lifted_reg_model = lifted_module()\n",
    "    prediction_mean = lifted_reg_model(data_feature).squeeze()\n",
    "    pyro.sample(\"obs\",\n",
    "                Normal(prediction_mean, 0.01 * Variable(torch.ones(data.size(0)))),\n",
    "                obs = data_target.squeeze())"
   ]
  },
  {
   "cell_type": "code",
   "execution_count": 318,
   "metadata": {},
   "outputs": [],
   "source": [
    "softplus = nn.Softplus()"
   ]
  },
  {
   "cell_type": "code",
   "execution_count": 319,
   "metadata": {},
   "outputs": [],
   "source": [
    "def guide(data):\n",
    "    data_feature = data[:,:-1]\n",
    "    p = data_feature.shape[1]\n",
    "    w_mu_input = Variable(torch.Tensor(weights_nn[0].T), requires_grad=True)\n",
    "    w_log_sig_input = Variable(std_init[0] * torch.ones(num_hidden, p), requires_grad=True)\n",
    "    b_mu_input = Variable(torch.Tensor(weights_nn[1]), requires_grad=True)\n",
    "    b_log_sig_input = Variable(std_init[1] * torch.ones(num_hidden), requires_grad=True)\n",
    "\n",
    "    mw_param_input = pyro.param(\"guide_mean_weight_input\", w_mu_input)\n",
    "    sw_param_input = softplus(pyro.param(\"guide_log_sigma_weight_input\", w_log_sig_input))\n",
    "    mb_param_input = pyro.param(\"guide_mean_bias_input\", b_mu_input)\n",
    "    sb_param_input = softplus(pyro.param(\"guide_log_sigma_bias_input\", b_log_sig_input))\n",
    "\n",
    "    w_mu_output = Variable(torch.Tensor(weights_nn[-2].T), requires_grad=True)\n",
    "    w_log_sig_output = Variable(std_init[-2] * torch.ones(1, num_hidden), requires_grad=True)\n",
    "    b_mu_output = Variable(torch.Tensor(weights_nn[-1]), requires_grad=True)\n",
    "    b_log_sig_output = Variable(std_init[-1] * torch.ones(1), requires_grad=True)\n",
    "\n",
    "    mw_param_output = pyro.param(\"guide_mean_weight_output\", w_mu_output)\n",
    "    sw_param_output = softplus(pyro.param(\"guide_log_sigma_weight_output\", w_log_sig_output))\n",
    "    mb_param_output = pyro.param(\"guide_mean_bias_output\", b_mu_output)\n",
    "    sb_param_output = softplus(pyro.param(\"guide_log_sigma_bias_output\", b_log_sig_output))\n",
    "\n",
    "    w_dist_input, b_dist_input = Normal(mw_param_input, sw_param_input), Normal(mb_param_input, sb_param_input)\n",
    "    w_dist_output, b_dist_output = Normal(mw_param_output, sw_param_output), Normal(mb_param_output, sb_param_output)\n",
    "    \n",
    "    dists = {'input.weight': w_dist_input, 'input.bias': b_dist_input,\n",
    "             'output.weight': w_dist_output, 'output.bias': b_dist_output}\n",
    "    \n",
    "    w_mu_hidden, w_log_sig_hidden, b_mu_hidden, b_log_sig_hidden, \\\n",
    "    mw_param_hidden, sw_param_hidden, mb_param_hidden, sb_param_hidden, \\\n",
    "    w_dist_hidden, b_dist_hidden = ({} for _ in range(10))\n",
    "    \n",
    "    for i in range(0, 18, 2):\n",
    "        assert weights_nn[i+2].shape == (num_hidden, num_hidden)\n",
    "        index = int(i/2)\n",
    "        w_mu_hidden[index] = Variable(torch.Tensor(weights_nn[i+2].T), requires_grad=True)\n",
    "        w_log_sig_hidden[index] = Variable(std_init[i+2] * torch.ones(num_hidden, num_hidden), requires_grad=True)\n",
    "        b_mu_hidden[index] = Variable(torch.Tensor(weights_nn[i+3]), requires_grad=True)\n",
    "        b_log_sig_hidden[index] = Variable(std_init[i+3] * torch.ones(num_hidden), requires_grad=True)\n",
    "\n",
    "        mw_param_hidden[index] = pyro.param(f'guide_mean_weight_hidden{index}', w_mu_hidden[index])\n",
    "        sw_param_hidden[index] = softplus(pyro.param(f'guide_log_sigma_weight_hidden{index}', w_log_sig_hidden[index]))\n",
    "        mb_param_hidden[index] = pyro.param(f'guide_mean_bias_hidden{index}', b_mu_hidden[index])\n",
    "        sb_param_hidden[index] = softplus(pyro.param(f'guide_log_sigma_bias_hidden{index}', b_log_sig_hidden[index]))\n",
    "    \n",
    "        w_dist_hidden[index] = Normal(mw_param_hidden[index], sw_param_hidden[index])\n",
    "        b_dist_hidden[index] = Normal(mb_param_hidden[index], sb_param_hidden[index])\n",
    "        dists[f'hidden{index}.weight'] = w_dist_hidden[index]\n",
    "        dists[f'hidden{index}.bias'] = b_dist_hidden[index]\n",
    "    \n",
    "    lifted_module = pyro.random_module(\"module\", regression_model, dists)\n",
    "\n",
    "    return lifted_module()"
   ]
  },
  {
   "cell_type": "code",
   "execution_count": 320,
   "metadata": {},
   "outputs": [
    {
     "data": {
      "image/png": "[encoded data removed]",
      "text/plain": [
       "<matplotlib.figure.Figure at 0x1392ffa58>"
      ]
     },
     "metadata": {},
     "output_type": "display_data"
    }
   ],
   "source": [
    "preds = []\n",
    "for i in range(100):\n",
    "    sampled_reg_model = guide(data)\n",
    "    pred = sampled_reg_model(Variable(data_feature_train)).data.numpy().flatten()\n",
    "    preds.append(pred)\n",
    "\n",
    "preds = np.array(preds)\n",
    "mean = np.mean(preds, axis=0)\n",
    "std = np.std(preds, axis=0) / 10\n",
    "\n",
    "plt.figure()\n",
    "x = np.arange(data_target_train.numpy().shape[0])\n",
    "plt.plot(x, data_target_train.numpy())\n",
    "plt.plot(x, mean, linestyle = '--')\n",
    "plt.fill_between(x, mean-std, mean+std, alpha = 0.3, color = 'orange')\n",
    "plt.show()"
   ]
  },
  {
   "cell_type": "code",
   "execution_count": 321,
   "metadata": {},
   "outputs": [
    {
     "name": "stdout",
     "output_type": "stream",
     "text": [
      "0 avg loss 128003.875\n",
      "100 avg loss 56368.84375\n",
      "200 avg loss 4646.67822265625\n",
      "300 avg loss 52695.5390625\n",
      "400 avg loss 32413.857421875\n",
      "500 avg loss 82237.2265625\n",
      "600 avg loss 26400.177734375\n",
      "700 avg loss 524.1917114257812\n",
      "800 avg loss 4014.185546875\n",
      "900 avg loss 571.15966796875\n",
      "1000 avg loss 26909.94921875\n",
      "1100 avg loss 1356.96435546875\n",
      "1200 avg loss 10840.2021484375\n",
      "1300 avg loss 4208.3427734375\n",
      "1400 avg loss 15464.9677734375\n",
      "1500 avg loss -458.71875\n",
      "1600 avg loss 47.7703857421875\n",
      "1700 avg loss 11902.3701171875\n",
      "1800 avg loss -203.803955078125\n",
      "1900 avg loss -2532.27587890625\n",
      "2000 avg loss 4208.794921875\n",
      "2100 avg loss -1334.3199462890625\n",
      "2200 avg loss -2255.7060546875\n",
      "2300 avg loss 3714.29443359375\n",
      "2400 avg loss 10026.3154296875\n",
      "2500 avg loss 8761.0810546875\n",
      "2600 avg loss 836.4815673828125\n",
      "2700 avg loss 8602.3046875\n",
      "2800 avg loss -2611.075439453125\n",
      "2900 avg loss -3460.4091796875\n"
     ]
    }
   ],
   "source": [
    "optim = Adam_pyro({\"lr\": 0.01})\n",
    "svi = SVI(model, guide, optim, loss=\"ELBO\")\n",
    "\n",
    "N = len(data_feature_train)\n",
    "\n",
    "for j in range(3000):\n",
    "    epoch_loss = svi.step(data)\n",
    "    if j % 100 == 0:\n",
    "        print(j, \"avg loss {}\".format(epoch_loss))"
   ]
  },
  {
   "cell_type": "code",
   "execution_count": 322,
   "metadata": {},
   "outputs": [
    {
     "data": {
      "image/png": "[encoded data removed]",
      "text/plain": [
       "<matplotlib.figure.Figure at 0x139306cc0>"
      ]
     },
     "metadata": {},
     "output_type": "display_data"
    }
   ],
   "source": [
    "preds = []\n",
    "for i in range(100):\n",
    "    sampled_reg_model = guide(data)\n",
    "    pred = sampled_reg_model(Variable(data_feature_train)).data.numpy().flatten()\n",
    "    preds.append(pred)\n",
    "\n",
    "preds = np.array(preds)\n",
    "mean = np.mean(preds, axis=0)\n",
    "std = np.std(preds, axis=0) / 10\n",
    "\n",
    "plt.figure()\n",
    "x = np.arange(data_target_train.numpy().shape[0])\n",
    "plt.plot(x, data_target_train.numpy())\n",
    "plt.plot(x, mean, linestyle = '--')\n",
    "plt.fill_between(x, mean-std, mean+std, alpha = 0.3, color = 'orange')\n",
    "plt.show()"
   ]
  }
 ],
 "metadata": {
  "kernelspec": {
   "display_name": "Python 3",
   "language": "python",
   "name": "python3"
  },
  "language_info": {
   "codemirror_mode": {
    "name": "ipython",
    "version": 3
   },
   "file_extension": ".py",
   "mimetype": "text/x-python",
   "name": "python",
   "nbconvert_exporter": "python",
   "pygments_lexer": "ipython3",
   "version": "3.6.1"
  }
 },
 "nbformat": 4,
 "nbformat_minor": 2
}
